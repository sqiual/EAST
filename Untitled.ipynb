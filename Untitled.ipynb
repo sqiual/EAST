{
 "cells": [
  {
   "cell_type": "code",
   "execution_count": 15,
   "id": "5b24ecd2-e94c-4afe-8d56-e570a884623f",
   "metadata": {},
   "outputs": [
    {
     "name": "stdout",
     "output_type": "stream",
     "text": [
      "/root/anaconda3/lib/python3.9/site-packages/transformers/utils/generic.py:441: UserWarning: torch.utils._pytree._register_pytree_node is deprecated. Please use torch.utils._pytree.register_pytree_node instead.\n",
      "  _torch_pytree._register_pytree_node(\n",
      "/root/anaconda3/lib/python3.9/site-packages/transformers/utils/generic.py:309: UserWarning: torch.utils._pytree._register_pytree_node is deprecated. Please use torch.utils._pytree.register_pytree_node instead.\n",
      "  _torch_pytree._register_pytree_node(\n",
      "Detected kernel version 5.4.0, which is below the recommended minimum of 5.5.0; this can cause the process to hang. It is recommended to upgrade the kernel to the minimum version or higher.\n",
      "cuda:0\n",
      "loading data ... \n",
      "./dataset/NYC/marinecb_train.pt\n",
      "./dataset/NYC/marinecb_val.pt\n",
      "data shape:  torch.Size([2127, 8, 8, 12, 12])\n",
      "loading data ... \n",
      "./dataset/NYC/marinecb_test.pt\n",
      "data shape:  torch.Size([785, 8, 8, 12, 12])\n",
      "/root/anaconda3/lib/python3.9/site-packages/huggingface_hub/file_download.py:943: FutureWarning: `resume_download` is deprecated and will be removed in version 1.0.0. Downloads always resume when possible. If you want to force a new download, use `force_download=True`.\n",
      "  warnings.warn(\n",
      "The number of trainable parameters: 155368734\n",
      "The learning rate: 5e-06\n",
      "Model LLM\n",
      "len(train_loader) 2127\n",
      "^C/20] Training pred loss: 1142.392 Cont loss: 6.728:   0%| | 5/2127 [00:02<17:3\n",
      "[0/20] Training pred loss: 1142.392 Cont loss: 6.728:   0%| | 5/2127 [00:03<23:2\n",
      "Traceback (most recent call last):\n",
      "  File \"/root/Time-LLM_OURS/OURS/git/train_prof.py\", line 187, in <module>\n",
      "    accelerator.backward(total_loss)\n",
      "  File \"/root/anaconda3/lib/python3.9/site-packages/accelerate/accelerator.py\", line 2001, in backward\n",
      "    loss.backward(**kwargs)\n",
      "  File \"/root/anaconda3/lib/python3.9/site-packages/torch/_tensor.py\", line 522, in backward\n",
      "    torch.autograd.backward(\n",
      "  File \"/root/anaconda3/lib/python3.9/site-packages/torch/autograd/__init__.py\", line 266, in backward\n",
      "    Variable._execution_engine.run_backward(  # Calls into the C++ engine to run the backward pass\n",
      "KeyboardInterrupt\n"
     ]
    }
   ],
   "source": [
    "!python train_prof.py"
   ]
  },
  {
   "cell_type": "code",
   "execution_count": 13,
   "id": "d6f4ff34-76b2-46ca-bc88-d9633ad4a55e",
   "metadata": {},
   "outputs": [
    {
     "data": {
      "text/plain": [
       "<torch.utils.data.dataset.TensorDataset at 0x7fa9176af790>"
      ]
     },
     "execution_count": 13,
     "metadata": {},
     "output_type": "execute_result"
    }
   ],
   "source": [
    "import torch\n",
    "torch.load('./dataset/NYC/marinecb_train.pt')"
   ]
  },
  {
   "cell_type": "code",
   "execution_count": null,
   "id": "b7d2f5f5-a5cc-423a-98b3-8a2c756d26c9",
   "metadata": {},
   "outputs": [],
   "source": []
  }
 ],
 "metadata": {
  "kernelspec": {
   "display_name": "Python 3 (ipykernel)",
   "language": "python",
   "name": "python3"
  },
  "language_info": {
   "codemirror_mode": {
    "name": "ipython",
    "version": 3
   },
   "file_extension": ".py",
   "mimetype": "text/x-python",
   "name": "python",
   "nbconvert_exporter": "python",
   "pygments_lexer": "ipython3",
   "version": "3.9.13"
  }
 },
 "nbformat": 4,
 "nbformat_minor": 5
}
